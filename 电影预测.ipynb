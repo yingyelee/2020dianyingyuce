{
 "cells": [
  {
   "cell_type": "code",
   "execution_count": 1,
   "metadata": {},
   "outputs": [],
   "source": [
    "import re\n",
    "import pandas as pd\n",
    "import numpy as np\n",
    "from sklearn.model_selection import StratifiedKFold\n",
    "import lightgbm as lgb\n",
    "import gc\n",
    "from sklearn.feature_extraction.text import TfidfVectorizer\n",
    "from sklearn.decomposition import TruncatedSVD\n",
    "import xgboost as xgb\n",
    "from catboost import CatBoostClassifier"
   ]
  },
  {
   "cell_type": "code",
   "execution_count": 3,
   "metadata": {},
   "outputs": [
    {
     "name": "stderr",
     "output_type": "stream",
     "text": [
      "D:\\software\\anaconda\\lib\\site-packages\\IPython\\core\\interactiveshell.py:3057: DtypeWarning: Columns (5) have mixed types. Specify dtype option on import or set low_memory=False.\n",
      "  interactivity=interactivity, compiler=compiler, result=result)\n"
     ]
    }
   ],
   "source": [
    "train_data = pd.read_csv(r'D:\\学习\\电影预测/train1217 16点30.csv')\n",
    "train_label = pd.read_csv(r'D:\\学习\\qiye/train_label.csv')\n",
    "train_data = train_data.merge(train_label, on='ID', how='left')\n",
    "\n",
    "test_data = pd.read_csv(r'D:\\学习\\qiye/test_stage2_update_20200320.csv')\n",
    "test_data['Label']=-1"
   ]
  },
  {
   "cell_type": "code",
   "execution_count": 2,
   "metadata": {},
   "outputs": [],
   "source": [
    "train_data = pd.read_csv(r'D:\\学习\\电影预测/train1217 16点30.csv')\n",
    "def tf_idf(train, col, n_components=5):\n",
    "    Tfidf_vect = TfidfVectorizer()\n",
    "    tfidf_vec = Tfidf_vect.fit_transform(train[col])\n",
    "    svd_enc = TruncatedSVD(n_components=n_components, n_iter=20, random_state=2020)\n",
    "    vec_svd = svd_enc.fit_transform(tfidf_vec)\n",
    "    vec_svd = pd.DataFrame(vec_svd)\n",
    "    vec_svd.columns = ['SVD_{}_{}'.format(col, i) for i in range(n_components)]\n",
    "    vec_svd = vec_svd.reset_index(drop= True)\n",
    "    return vec_svd"
   ]
  },
  {
   "cell_type": "code",
   "execution_count": 6,
   "metadata": {},
   "outputs": [],
   "source": [
    "def get_data_null_rate(train, test, cols=None):\n",
    "    if cols!=None:\n",
    "        train = train[cols]\n",
    "        test = test[cols]\n",
    "    data_null_rate = (train.isnull().sum()/len(train)).reset_index().rename(columns={0:'train'})\n",
    "    data_null_rate = data_null_rate.merge((test.isnull().sum()/len(test)).reset_index().rename(columns={0:'test'}),\n",
    "                                          on='index',how='inner')\n",
    "    del train,test\n",
    "    gc.collect()\n",
    "    return data_null_rate\n",
    "data_null_rate = get_data_null_rate(train_data.copy(),test_data.copy())\n",
    "# 删除训练集和验证集中缺失率为1的 特征\n",
    "rm_cols = list(data_null_rate[(data_null_rate['train']==1)|(data_null_rate['test']==1)]['index'])\n",
    "for col in train_data.columns:\n",
    "    if train_data[col].nunique() < 2:\n",
    "        rm_cols.append(col)\n",
    "\n",
    "train_data = train_data[[col for col in train_data.columns if col not in rm_cols]]\n",
    "test_data = test_data[[col for col in test_data.columns if col not in rm_cols]]\n",
    "all_data = train_data.append(test_data)"
   ]
  },
  {
   "cell_type": "code",
   "execution_count": 7,
   "metadata": {},
   "outputs": [],
   "source": [
    "jingying_svd = tf_idf(all_data, '经营范围', n_components=5)\n",
    "all_data = all_data.reset_index(drop= True)\n",
    "all_data = pd.concat([all_data, jingying_svd], axis=1)"
   ]
  },
  {
   "cell_type": "code",
   "execution_count": 17,
   "metadata": {},
   "outputs": [],
   "source": [
    "Tfidf_vect = TfidfVectorizer()\n",
    "tfidf_vec = Tfidf_vect.fit_transform(all_data['经营范围'])"
   ]
  },
  {
   "cell_type": "code",
   "execution_count": 9,
   "metadata": {},
   "outputs": [],
   "source": [
    "all_data.to_csv('山东alldata.csv')"
   ]
  },
  {
   "cell_type": "code",
   "execution_count": 20,
   "metadata": {
    "scrolled": true
   },
   "outputs": [],
   "source": [
    "train = pd.read_csv(r'D:\\学习\\电影预测/train.csv')\n"
   ]
  },
  {
   "cell_type": "code",
   "execution_count": 21,
   "metadata": {},
   "outputs": [],
   "source": [
    "train_svd = tf_idf(train, 'crew', n_components=5)\n",
    "train = train.reset_index(drop= True)\n",
    "train = pd.concat([train, train_svd], axis=1)"
   ]
  },
  {
   "cell_type": "code",
   "execution_count": 22,
   "metadata": {},
   "outputs": [],
   "source": [
    "train.to_csv('电影预测train.csv')"
   ]
  }
 ],
 "metadata": {
  "kernelspec": {
   "display_name": "Python 3",
   "language": "python",
   "name": "python3"
  },
  "language_info": {
   "codemirror_mode": {
    "name": "ipython",
    "version": 3
   },
   "file_extension": ".py",
   "mimetype": "text/x-python",
   "name": "python",
   "nbconvert_exporter": "python",
   "pygments_lexer": "ipython3",
   "version": "3.7.3"
  }
 },
 "nbformat": 4,
 "nbformat_minor": 2
}
